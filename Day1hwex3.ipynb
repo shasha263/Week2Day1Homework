{
 "cells": [
  {
   "cell_type": "code",
   "execution_count": 9,
   "metadata": {},
   "outputs": [
    {
     "name": "stdout",
     "output_type": "stream",
     "text": [
      "Seniors\n"
     ]
    }
   ],
   "source": [
    "age=input('How old are you?:')\n",
    "\n",
    "if int(age)<18:\n",
    "    print('Kids')\n",
    "elif int(age)>=18 and int(age)<=65:\n",
    "    print('Adults')\n",
    "else:\n",
    "    print('Seniors')\n"
   ]
  }
 ],
 "metadata": {
  "interpreter": {
   "hash": "b93b91927d7b2753ebe242aa7dfcdfef91881393d8b926ec2ce01874b09d686e"
  },
  "kernelspec": {
   "display_name": "Python 3.9.7 64-bit",
   "language": "python",
   "name": "python3"
  },
  "language_info": {
   "codemirror_mode": {
    "name": "ipython",
    "version": 3
   },
   "file_extension": ".py",
   "mimetype": "text/x-python",
   "name": "python",
   "nbconvert_exporter": "python",
   "pygments_lexer": "ipython3",
   "version": "3.9.7"
  },
  "orig_nbformat": 4
 },
 "nbformat": 4,
 "nbformat_minor": 2
}
